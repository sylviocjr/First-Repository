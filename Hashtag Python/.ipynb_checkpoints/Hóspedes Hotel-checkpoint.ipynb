{
 "cells": [
  {
   "cell_type": "code",
   "execution_count": 15,
   "id": "67a8d189",
   "metadata": {},
   "outputs": [
    {
     "name": "stdout",
     "output_type": "stream",
     "text": [
      "Quantidade de hóspedes no quarto: 1\n",
      "Nome do hóspede: sYLVIO C Jr\n",
      "CPF do hóspede: 64927180972\n",
      "Quarto:  [['sYLVIO C Jr', 'cpf: 64927180972']]\n"
     ]
    }
   ],
   "source": [
    "quarto = []\n",
    "\n",
    "qtdade_pessoas = input(\"Quantidade de hóspedes no quarto: \")\n",
    "\n",
    "for i in range(int(qtdade_pessoas)):  # Uso do for para um dado número n de vezes.\n",
    "    nome = input(\"Nome do hóspede: \")\n",
    "    cpf = input(\"CPF do hóspede: \")\n",
    "    \n",
    "    hospede = [nome, \"cpf: {}\".format(cpf)]\n",
    "    quarto.append(hospede)  # Para não me perder mais: inserir (append) a lista/o item que acabou de ser criada(o) - hospede.\n",
    "    \n",
    "\n",
    "print(\"Quarto: \", quarto)\n",
    "    \n",
    "    \n"
   ]
  },
  {
   "cell_type": "code",
   "execution_count": null,
   "id": "e398ff61",
   "metadata": {},
   "outputs": [],
   "source": []
  }
 ],
 "metadata": {
  "kernelspec": {
   "display_name": "Python 3 (ipykernel)",
   "language": "python",
   "name": "python3"
  },
  "language_info": {
   "codemirror_mode": {
    "name": "ipython",
    "version": 3
   },
   "file_extension": ".py",
   "mimetype": "text/x-python",
   "name": "python",
   "nbconvert_exporter": "python",
   "pygments_lexer": "ipython3",
   "version": "3.9.7"
  }
 },
 "nbformat": 4,
 "nbformat_minor": 5
}
