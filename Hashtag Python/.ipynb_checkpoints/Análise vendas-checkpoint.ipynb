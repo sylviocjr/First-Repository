{
 "cells": [
  {
   "cell_type": "code",
   "execution_count": 16,
   "id": "b2ad3239",
   "metadata": {},
   "outputs": [
    {
     "name": "stdout",
     "output_type": "stream",
     "text": [
      "Colaborador(a) João bateu a meta, com R$ 15000.00 em vendas !\n",
      "Colaborador(a) Julia bateu a meta, com R$ 27000.00 em vendas !\n",
      "Colaborador(a) Ana bateu a meta, com R$ 10300.00 em vendas !\n"
     ]
    }
   ],
   "source": [
    "meta = 10000\n",
    "vendas = [\n",
    "    ['João', 15000],\n",
    "    ['Julia', 27000],\n",
    "    ['Marcus', 9900],\n",
    "    ['Maria', 3750],\n",
    "    ['Ana', 10300],\n",
    "    ['Alon', 7870],\n",
    "]\n",
    "\n",
    "for i, vendedor in enumerate(vendas):\n",
    "    #print(\"Colaborador {}, índice {}, vendeu R$ {:.2f}.\".format(vendas[i][0], i, vendas[i][1]))\n",
    "    \n",
    "    if vendas[i][1] >= meta:\n",
    "        print(\"Colaborador(a) {} bateu a meta, com R$ {:.2f} em vendas !\".format(vendas[i][0], vendas[i][1]))"
   ]
  },
  {
   "cell_type": "code",
   "execution_count": null,
   "id": "91debe7b",
   "metadata": {},
   "outputs": [],
   "source": []
  }
 ],
 "metadata": {
  "kernelspec": {
   "display_name": "Python 3 (ipykernel)",
   "language": "python",
   "name": "python3"
  },
  "language_info": {
   "codemirror_mode": {
    "name": "ipython",
    "version": 3
   },
   "file_extension": ".py",
   "mimetype": "text/x-python",
   "name": "python",
   "nbconvert_exporter": "python",
   "pygments_lexer": "ipython3",
   "version": "3.9.7"
  }
 },
 "nbformat": 4,
 "nbformat_minor": 5
}
