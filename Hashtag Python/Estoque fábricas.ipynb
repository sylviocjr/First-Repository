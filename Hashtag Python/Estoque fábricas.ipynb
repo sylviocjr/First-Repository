{
 "cells": [
  {
   "cell_type": "code",
   "execution_count": 3,
   "id": "b55789c1",
   "metadata": {},
   "outputs": [
    {
     "name": "stdout",
     "output_type": "stream",
     "text": [
      "A fábrica Lira Manufacturing tem item abaixo do estoque mínimo !\n",
      "A fábrica Fábrica Hashtag tem item abaixo do estoque mínimo !\n",
      "A fábrica Python Manufaturas tem item abaixo do estoque mínimo !\n"
     ]
    }
   ],
   "source": [
    "estoque = [\n",
    "    [294, 125, 269, 208, 783, 852, 259, 371, 47, 102, 386, 87, 685, 686, 697, 941, 163, 631, 7, 714, 218, 670, 453],\n",
    "    [648, 816, 310, 555, 992, 643, 226, 319, 501, 23, 239, 42, 372, 441, 126, 645, 927, 911, 761, 445, 974, 2, 549],\n",
    "    [832, 683, 784, 449, 977, 705, 198, 937, 729, 327, 339, 10, 975, 310, 95, 689, 137, 795, 211, 538, 933, 751, 522],\n",
    "    [837, 168, 570, 397, 53, 297, 966, 714, 72, 737, 259, 629, 625, 469, 922, 305, 782, 243, 841, 848, 372, 621, 362],\n",
    "    [429, 242, 53, 985, 406, 186, 198, 50, 501, 870, 781, 632, 781, 105, 644, 509, 401, 88, 961, 765, 422, 340, 654],\n",
    "]\n",
    "fabricas = ['Lira Manufacturing', 'Fábrica Hashtag', 'Python Manufaturas', 'Produções e Cia', 'Manufatura e Cia']\n",
    "nivel_minimo = 50\n",
    "\n",
    "lista_auxiliar=[]\n",
    "\n",
    "for i in range (len(estoque)):\n",
    "    for j in range (len(estoque[0])):\n",
    "        if estoque[i][j] < nivel_minimo and fabricas[i] not in lista_auxiliar:\n",
    "            #print('A loja {} tem algum item abaixo do estoque mínimo !'. format(fabricas[i]))\n",
    "            lista_auxiliar.append(fabricas[i])\n",
    "for cada_fabrica in lista_auxiliar:\n",
    "    print('A fábrica {} tem item abaixo do estoque mínimo !'.format(cada_fabrica))\n",
    "\n",
    "# Fazer o mesmo exercício usando o enumerate !!"
   ]
  }
 ],
 "metadata": {
  "kernelspec": {
   "display_name": "Python 3 (ipykernel)",
   "language": "python",
   "name": "python3"
  },
  "language_info": {
   "codemirror_mode": {
    "name": "ipython",
    "version": 3
   },
   "file_extension": ".py",
   "mimetype": "text/x-python",
   "name": "python",
   "nbconvert_exporter": "python",
   "pygments_lexer": "ipython3",
   "version": "3.9.7"
  }
 },
 "nbformat": 4,
 "nbformat_minor": 5
}
