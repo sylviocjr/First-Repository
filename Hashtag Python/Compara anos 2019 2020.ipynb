{
 "cells": [
  {
   "cell_type": "code",
   "execution_count": 10,
   "id": "435b8ca5",
   "metadata": {},
   "outputs": [
    {
     "name": "stdout",
     "output_type": "stream",
     "text": [
      "O produto \"IPHONE\" teve aumento nas vendas, com 393,495 unidades a mais e incremento de 70.50%.\n",
      "O produto \"TV\" teve aumento nas vendas, com 382,352 unidades a mais e incremento de 94.35%.\n",
      "O produto \"MÁQUINA DE CAFÉ\" teve aumento nas vendas, com 149,006 unidades a mais e incremento de 20.73%.\n",
      "O produto \"NOTEBOOK DELL\" teve aumento nas vendas, com 272,153 unidades a mais e incremento de 64.38%.\n",
      "O produto \"NOTEBOOK HP\" teve aumento nas vendas, com 384,951 unidades a mais e incremento de 248.75%.\n",
      "O produto \"MICROSOFT SURFACE\" teve aumento nas vendas, com 228,671 unidades a mais e incremento de 52.15%.\n",
      "O produto \"WEBCAM\" teve aumento nas vendas, com 58,166 unidades a mais e incremento de 24.49%.\n",
      "O produto \"CAIXA DE SOM\" teve aumento nas vendas, com 235,611 unidades a mais e incremento de 48.11%.\n",
      "O produto \"MICROFONE\" teve aumento nas vendas, com 316,311 unidades a mais e incremento de 96.34%.\n",
      "O produto \"CÂMERA CANON\" teve aumento nas vendas, com 403,183 unidades a mais e incremento de 68.21%.\n"
     ]
    }
   ],
   "source": [
    "produtos = ['iphone', 'galaxy', 'ipad', 'tv', 'máquina de café', 'kindle', 'geladeira', 'adega', 'notebook dell',\n",
    "            'notebook hp', 'notebook asus', 'microsoft surface', 'webcam', 'caixa de som', 'microfone', 'câmera canon']\n",
    "vendas2019 = [558147,712350,573823,405252,718654,531580,973139,892292,422760,154753,887061,438508,237467,489705,328311,591120]\n",
    "vendas2020 = [951642,244295,26964,787604,867660,78830,710331,646016,694913,539704,324831,667179,295633,725316,644622,994303]\n",
    "\n",
    "for i, cada_produto in enumerate (produtos):\n",
    "    if vendas2020[i] > vendas2019[i]:\n",
    "        print('O produto \"{}\" teve aumento nas vendas, com {:,} unidades a mais e incremento de {:.2%}.'\n",
    "              .format(cada_produto.upper(), vendas2020[i] - vendas2019[i], (vendas2020[i] / vendas2019[i])-1))"
   ]
  },
  {
   "cell_type": "code",
   "execution_count": null,
   "id": "9f333219",
   "metadata": {},
   "outputs": [],
   "source": []
  }
 ],
 "metadata": {
  "kernelspec": {
   "display_name": "Python 3 (ipykernel)",
   "language": "python",
   "name": "python3"
  },
  "language_info": {
   "codemirror_mode": {
    "name": "ipython",
    "version": 3
   },
   "file_extension": ".py",
   "mimetype": "text/x-python",
   "name": "python",
   "nbconvert_exporter": "python",
   "pygments_lexer": "ipython3",
   "version": "3.9.7"
  }
 },
 "nbformat": 4,
 "nbformat_minor": 5
}
